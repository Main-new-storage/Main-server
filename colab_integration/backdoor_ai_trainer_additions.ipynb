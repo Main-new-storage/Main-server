{
 "cells": [
  {
   "cell_type": "code",
   "execution_count": null,
   "metadata": {},
   "source": [
    "# Check installed package versions to verify everything is compatible\n",
    "!python -c \"import sys; print(f'Python version: {sys.version}')\"\n",
    "!python -c \"import sklearn; print(f'scikit-learn version: {sklearn.__version__}')\"\n",
    "!python -c \"import coremltools; print(f'coremltools version: {coremltools.__version__}')\"\n",
    "!python -c \"import numpy; print(f'numpy version: {numpy.__version__}')\"\n",
    "!python -c \"import pandas; print(f'pandas version: {pandas.__version__}')\"\n",
    "\n",
    "# Fix for missing libcoremlpython module\n",
    "import os\n",
    "import coremltools\n",
    "\n",
    "coreml_dir = os.path.dirname(coremltools.__file__)\n",
    "lib_path = os.path.join(coreml_dir, 'libcoremlpython.py')\n",
    "\n",
    "if not os.path.exists(lib_path):\n",
    "    print(f\"Creating mock libcoremlpython module at {lib_path}\")\n",
    "    with open(lib_path, 'w') as f:\n",
    "        f.write(\"\"\"\n",
    "class MockProxy:\n",
    "    def __init__(self, *args, **kwargs):\n",
    "        pass\n",
    "        \n",
    "    def __getattr__(self, name):\n",
    "        def mock_method(*args, **kwargs):\n",
    "            return None\n",
    "        return mock_method\n",
    "\n",
    "# Create mock proxies\n",
    "_MLModelProxy = MockProxy\n",
    "_MLComputePlanProxy = MockProxy\n",
    "_MLModelAssetProxy = MockProxy\n",
    "_MLCPUComputeDeviceProxy = MockProxy\n",
    "_MLGPUComputeDeviceProxy = MockProxy\n",
    "_MLNeuralEngineComputeDeviceProxy = MockProxy\n",
    "\"\"\")\n",
    "    print(\"Mock libcoremlpython module created successfully\")\n",
    "else:\n",
    "    print(\"libcoremlpython module already exists\")"
   ]
  }
 ],
 "metadata": {
  "language_info": {
   "name": "python"
  }
 },
 "nbformat": 4,
 "nbformat_minor": 2
}
